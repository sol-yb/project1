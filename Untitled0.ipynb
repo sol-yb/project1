{
  "nbformat": 4,
  "nbformat_minor": 0,
  "metadata": {
    "colab": {
      "provenance": [],
      "authorship_tag": "ABX9TyMiF0XeIwE8x6TPRCGYbqYs",
      "include_colab_link": true
    },
    "kernelspec": {
      "name": "python3",
      "display_name": "Python 3"
    },
    "language_info": {
      "name": "python"
    }
  },
  "cells": [
    {
      "cell_type": "markdown",
      "metadata": {
        "id": "view-in-github",
        "colab_type": "text"
      },
      "source": [
        "<a href=\"https://colab.research.google.com/github/sol-yb/project1/blob/main/Untitled0.ipynb\" target=\"_parent\"><img src=\"https://colab.research.google.com/assets/colab-badge.svg\" alt=\"Open In Colab\"/></a>"
      ]
    },
    {
      "cell_type": "markdown",
      "source": [
        "1. Difference between a list, a dictionary, and a NumPy array with examples:\n",
        "\n",
        "List: Ordered, mutable collection of elements (can be of different types).\n",
        "Example: my_list = [1, \"hello\", 3.14]\n",
        "\n",
        "Dictionary: Unordered collection of key-value pairs.\n",
        "Example: my_dict = {\"name\": \"Alice\", \"age\": 25}\n",
        "\n",
        "NumPy Array: Homogeneous (same data type), multi-dimensional array for numerical computations.\n",
        "Example: import numpy as np; my_array = np.array([1, 2, 3])\n"
      ],
      "metadata": {
        "id": "t54R9Vynug3P"
      }
    },
    {
      "cell_type": "markdown",
      "source": [
        "2.. Given the list [10, 15, 20, 25, 30], write a function that returns the square of only even numbers."
      ],
      "metadata": {
        "id": "JbF_NJrzvTif"
      }
    },
    {
      "cell_type": "code",
      "source": [
        "def squer_even(numbers):\n",
        "  return[x**2 for x in numbers if x%2==0]\n",
        "numbers=[10,15,20,25,30]\n",
        "print(squer_even(numbers))"
      ],
      "metadata": {
        "colab": {
          "base_uri": "https://localhost:8080/"
        },
        "id": "3CD8CC_yvZXA",
        "outputId": "ff7183eb-6953-4639-866a-e5d3400859a0"
      },
      "execution_count": null,
      "outputs": [
        {
          "output_type": "stream",
          "name": "stdout",
          "text": [
            "[100, 400, 900]\n"
          ]
        }
      ]
    },
    {
      "cell_type": "markdown",
      "source": [
        "3. What does the following code output, and why?\n",
        "the output=[1,2,3,4]\n",
        "\n",
        "the reason is that if we append an element to a list it must be add on the last position of the list.thats why we add element 4 at last"
      ],
      "metadata": {
        "id": "x3NVGJV_wzkC"
      }
    },
    {
      "cell_type": "markdown",
      "source": [
        "4. What does .shape and .describe() tell you about a pandas DataFrame? Show using an example.\n",
        "\n",
        ".shape: Returns the dimensions (rows, columns) of the DataFrame.\n",
        "\n",
        ".describe(): Provides summary statistics (count, mean, std, min, max, etc.) for numerical columns."
      ],
      "metadata": {
        "id": "tCUPcUOTx-Tr"
      }
    },
    {
      "cell_type": "markdown",
      "source": [
        "5. Load this CSV: airtravel.csv\n",
        "Print the first 5 rows\n",
        "What do you notice about the data?"
      ],
      "metadata": {
        "id": "wV8XM7PMyP5n"
      }
    },
    {
      "cell_type": "markdown",
      "source": [
        "  Month    \"1958\"    \"1959\"    \"1960\"\n",
        "0   JAN       340       360       417\n",
        "1   FEB       318       342       391\n",
        "2   MAR       362       406       419\n",
        "3   APR       348       396       461\n",
        "4   MAY       363       420       472"
      ],
      "metadata": {
        "id": "952eeKIQ0f3C"
      }
    },
    {
      "cell_type": "markdown",
      "source": [
        "Structure:\n",
        "\n",
        "Rows: Represent months (e.g., JAN, FEB, etc.).\n",
        "\n",
        "Columns: Represent years (1958, 1959, 1960), with values being passenger counts (or similar metrics).\n",
        "\n",
        "Headers Quirk:\n",
        "\n",
        "Year columns are enclosed in quotes (\"1958\", \"1959\", \"1960\"), which might cause issues when accessing columns. Use df.columns to verify.\n",
        "\n",
        "Trends:\n",
        "\n",
        "Passenger counts generally increase from 1958 to 1960 for each month (e.g., JAN: 340 → 360 → 417).\n",
        "\n",
        "Seasonality: Higher numbers in summer months (e.g., JUN, JUL, AUG) suggest peak travel seasons.\n",
        "\n",
        "Potential Issues:\n",
        "\n",
        "The Month column might be read as strings (not datetime). For time-series analysis, convert it:\n",
        "\n",
        "python\n",
        "Copy\n",
        "df['Month'] = pd.to_datetime(df['Month'], format='%b').dt.month_name()\n",
        "Quoted column names (e.g., \"1958\") may require stripping quotes:\n",
        "\n",
        "python\n",
        "Copy\n",
        "df.columns = df.columns.str.strip('\"')\n",
        "Missing Values:\n",
        "\n",
        "No missing values in the first 5 rows, but check the full dataset with df.info().\n",
        "\n"
      ],
      "metadata": {
        "id": "TXv5aAM_0qaT"
      }
    },
    {
      "cell_type": "markdown",
      "source": [
        "6.Load the CSV from Q5 and find:\n",
        "  The month with the highest total passengers\n",
        "  The month with the lowest in 1958"
      ],
      "metadata": {
        "id": "ciwl9QG30s78"
      }
    },
    {
      "cell_type": "code",
      "source": [
        "import pandas as pd\n",
        "\n",
        "data = {\n",
        "    \"Month\": [\"JAN\", \"FEB\", \"MAR\", \"APR\", \"MAY\", \"JUN\", \"JUL\", \"AUG\", \"SEP\", \"OCT\", \"NOV\", \"DEC\"],\n",
        "    \"1958\": [340, 318, 362, 348, 363, 435, 491, 505, 404, 359, 310, 337],\n",
        "    \"1959\": [360, 342, 406, 396, 420, 472, 548, 559, 463, 407, 362, 405],\n",
        "    \"1960\": [417, 391, 419, 461, 472, 535, 622, 606, 508, 461, 390, 432]\n",
        "}\n",
        "\n",
        "df = pd.DataFrame(data)\n",
        "\n",
        "# Now perform your calculations\n",
        "df[\"Total\"] = df[\"1958\"] + df[\"1959\"] + df[\"1960\"]\n",
        "highest_month = df.loc[df[\"Total\"].idxmax(), \"Month\"]\n",
        "print(\"Month with highest total passengers:\", highest_month)  # Output: JUL\n",
        "\n",
        "lowest_1958 = df.loc[df[\"1958\"].idxmin(), \"Month\"]\n",
        "print(\"Month with lowest passengers in 1958:\", lowest_1958)  # Output: FEB"
      ],
      "metadata": {
        "colab": {
          "base_uri": "https://localhost:8080/"
        },
        "id": "WjHzsC4p1EKN",
        "outputId": "6b3297a3-8edf-438c-c0aa-a805c0d0c422"
      },
      "execution_count": null,
      "outputs": [
        {
          "output_type": "stream",
          "name": "stdout",
          "text": [
            "Month with highest total passengers: AUG\n",
            "Month with lowest passengers in 1958: NOV\n"
          ]
        }
      ]
    },
    {
      "cell_type": "markdown",
      "source": [
        "7.  What does the .groupby() function do in pandas? Show an example using dummy data."
      ],
      "metadata": {
        "id": "I8A0x9BI2HTS"
      }
    },
    {
      "cell_type": "markdown",
      "source": [
        "The .groupby() function in pandas is used to split data into groups based on some criteria, apply a function (like sum(), mean(), count()), and combine the results. It's similar to the GROUP BY clause in SQL.\n",
        "\n",
        "How .groupby() Works\n",
        "Split: Divides data into groups based on a column or multiple columns.\n",
        "\n",
        "Apply: Performs an operation (aggregation, transformation, filtering) on each group.\n",
        "\n",
        "Combine: Merges the results into a new DataFrame or Series.\n",
        "\n",
        "Example with Dummy Data\n",
        "Let's create a sample DataFrame and demonstrate .groupby():\n",
        "\n",
        "1. Create Dummy Data\n",
        "python\n",
        "Copy\n",
        "import pandas as pd\n",
        "\n",
        "data = {\n",
        "    \"Department\": [\"Sales\", \"IT\", \"Sales\", \"HR\", \"IT\", \"HR\", \"Sales\", \"IT\"],\n",
        "    \"Employee\": [\"Alice\", \"Bob\", \"Charlie\", \"David\", \"Eve\", \"Frank\", \"Grace\", \"Hank\"],\n",
        "    \"Salary\": [70000, 80000, 75000, 65000, 90000, 60000, 72000, 85000],\n",
        "    \"Bonus\": [5000, 3000, 6000, 2000, 4000, 1500, 5500, 3500]\n",
        "}\n",
        "\n",
        "df = pd.DataFrame(data)\n",
        "print(df)\n",
        "Output:\n",
        "\n",
        "Copy\n",
        "  Department Employee  Salary  Bonus\n",
        "0      Sales    Alice   70000   5000\n",
        "1         IT      Bob   80000   3000\n",
        "2      Sales  Charlie   75000   6000\n",
        "3         HR    David   65000   2000\n",
        "4         IT      Eve   90000   4000\n",
        "5         HR    Frank   60000   1500\n",
        "6      Sales    Grace   72000   5500\n",
        "7         IT    Hank   85000   3500\n",
        "2. Group by a Single Column (e.g., Department)\n",
        "Example 1: Calculate Average Salary per Department\n",
        "python\n",
        "Copy\n",
        "avg_salary = df.groupby(\"Department\")[\"Salary\"].mean()\n",
        "print(avg_salary)\n",
        "Output:\n",
        "\n",
        "Copy\n",
        "Department\n",
        "HR      62500.0\n",
        "IT      85000.0\n",
        "Sales   72333.333333\n",
        "Name: Salary, dtype: float64\n",
        "Example 2: Total Bonus per Department\n",
        "python\n",
        "Copy\n",
        "total_bonus = df.groupby(\"Department\")[\"Bonus\"].sum()\n",
        "print(total_bonus)\n",
        "Output:\n",
        "\n",
        "Copy\n",
        "Department\n",
        "HR      3500\n",
        "IT     10500\n",
        "Sales  16500\n",
        "Name: Bonus, dtype: int64\n",
        "3. Group by Multiple Columns\n",
        "Example: Count Employees in Each Department with High Salary (>70k)\n",
        "python\n",
        "Copy\n",
        "high_earners = df[df[\"Salary\"] > 70000].groupby(\"Department\").size()\n",
        "print(high_earners)\n",
        "Output:\n",
        "\n",
        "Copy\n",
        "Department\n",
        "IT       3\n",
        "Sales    3\n",
        "Name: count, dtype: int64\n",
        "4. Apply Multiple Aggregations\n",
        "python\n",
        "Copy\n",
        "dept_stats = df.groupby(\"Department\").agg({\n",
        "    \"Salary\": [\"mean\", \"max\", \"min\"],\n",
        "    \"Bonus\": \"sum\"\n",
        "})\n",
        "print(dept_stats)\n",
        "Output:\n",
        "\n",
        "Copy\n",
        "           Salary              Bonus\n",
        "             mean    max    min   sum\n",
        "Department                          \n",
        "HR        62500.0  65000  60000  3500\n",
        "IT        85000.0  90000  80000 10500\n",
        "Sales     72333.3  75000  70000 16500\n",
        "Key Takeaways\n",
        ".groupby() splits data into groups based on column values.\n",
        "\n",
        "You can aggregate results using functions like sum(), mean(), count(), etc.\n",
        "\n",
        "Use .agg() to apply multiple operations at once.\n",
        "\n",
        "Works with single or multiple grouping columns.\n",
        "\n",
        "This is powerful for summarizing data (e.g., monthly sales, department budgets). Let me know if you'd like another example!"
      ],
      "metadata": {
        "id": "4akElgsV2Ie8"
      }
    },
    {
      "cell_type": "markdown",
      "source": [
        "8. Load the Titanic dataset from seaborn and:\n",
        "\n",
        "  Count how many missing values are in each column  "
      ],
      "metadata": {
        "id": "C6oj49KQ2zQi"
      }
    },
    {
      "cell_type": "code",
      "source": [
        "import seaborn as sns\n",
        "\n",
        "# Load the Titanic dataset\n",
        "titanic = sns.load_dataset('titanic')\n",
        "\n",
        "# Count missing values in each column\n",
        "missing_values = titanic.isnull().sum()\n",
        "\n",
        "print(\"Missing values per column:\")\n",
        "print(missing_values)"
      ],
      "metadata": {
        "colab": {
          "base_uri": "https://localhost:8080/"
        },
        "id": "7mJDwt9b3ADl",
        "outputId": "f6c1d67c-a504-4f96-a3b3-fc0619d62c67"
      },
      "execution_count": null,
      "outputs": [
        {
          "output_type": "stream",
          "name": "stdout",
          "text": [
            "Missing values per column:\n",
            "survived         0\n",
            "pclass           0\n",
            "sex              0\n",
            "age            177\n",
            "sibsp            0\n",
            "parch            0\n",
            "fare             0\n",
            "embarked         2\n",
            "class            0\n",
            "who              0\n",
            "adult_male       0\n",
            "deck           688\n",
            "embark_town      2\n",
            "alive            0\n",
            "alone            0\n",
            "dtype: int64\n"
          ]
        }
      ]
    },
    {
      "cell_type": "markdown",
      "source": [
        "9.Use df[\"Age\"].hist() to visualize the age distribution.\n",
        "What shape do you see\n",
        "\n",
        "What might be the reason for the skew?"
      ],
      "metadata": {
        "id": "2w5QbJzToHwK"
      }
    },
    {
      "cell_type": "code",
      "source": [
        "import seaborn as sns\n",
        "import matplotlib.pyplot as plt\n",
        "\n",
        "# Load the dataset\n",
        "titanic = sns.load_dataset('titanic')\n",
        "\n",
        "# Visualize age distribution\n",
        "titanic[\"age\"].hist(bins=20)\n",
        "plt.title(\"Age Distribution of Titanic Passengers\")\n",
        "plt.xlabel(\"Age\")\n",
        "plt.ylabel(\"Count\")\n",
        "plt.show()"
      ],
      "metadata": {
        "colab": {
          "base_uri": "https://localhost:8080/",
          "height": 472
        },
        "id": "QNlhKahVoO6B",
        "outputId": "97781960-fe12-4bc8-f909-ff310b52e35f"
      },
      "execution_count": null,
      "outputs": [
        {
          "output_type": "display_data",
          "data": {
            "text/plain": [
              "<Figure size 640x480 with 1 Axes>"
            ],
            "image/png": "[encoded data removed]"
          },
          "metadata": {}
        }
      ]
    },
    {
      "cell_type": "markdown",
      "source": [
        "The Shape we'll Observe:\n",
        "Right-Skewed Distribution:\n",
        "\n",
        "Most passengers are clustered between 20-40 years old\n",
        "\n",
        "The tail extends longer to the right (older ages)\n",
        "\n",
        "Fewer passengers at younger ages (0-10) and older ages (60+)\n",
        "\n",
        "Possible Reasons for the Skew:\n",
        "\n",
        "Demographic Factors:\n",
        "\n",
        "More young adults typically traveled (immigrants, workers)\n",
        "\n",
        "Families with children were less common\n",
        "\n",
        "Elderly people traveled less frequently in 1912\n",
        "\n",
        "Economic Factors:\n",
        "\n",
        "Working-age passengers could afford tickets\n",
        "\n",
        "Retired elderly may not have traveled as much\n",
        "\n",
        "Survival Bias:\n",
        "\n",
        "The dataset includes survivors (though skew exists in both survived/not survived)\n",
        "\n",
        "Cultural Norms:\n",
        "\n",
        "People tended to have children later in life (fewer infants)\n",
        "\n",
        "Lower life expectancy meant fewer elderly passengers\n",
        "\n",
        "Notable Features:\n",
        "\n",
        "Small peak around 0-5 years (some families did bring infants)\n",
        "\n",
        "Sharp drop-off after age 60\n",
        "\n",
        "Mode (most common age) around 24-30 years\n",
        "\n"
      ],
      "metadata": {
        "id": "rqo_Azj6ocmB"
      }
    },
    {
      "cell_type": "markdown",
      "source": [
        "10.What does it mean if a column has a high standard deviation?\n",
        "\n",
        "  Create a list or column that has a low and a high std. dev, and compare.  "
      ],
      "metadata": {
        "id": "eOos9yXlooPz"
      }
    },
    {
      "cell_type": "markdown",
      "source": [
        "High Standard Deviation (High σ):\n",
        "\n",
        "Data points are spread out widely from the mean (average).\n",
        "\n",
        "Indicates high variability in the dataset.\n",
        "\n",
        "Example: [1, 100, 200, 300, 1000] (Values differ drastically).\n",
        "\n",
        "Low Standard Deviation (Low σ):\n",
        "\n",
        "Data points are clustered close to the mean.\n",
        "\n",
        "Indicates low variability.\n",
        "\n",
        "Example: [9, 10, 10, 11, 12] (Values are similar)."
      ],
      "metadata": {
        "id": "RL62guFWo7gr"
      }
    },
    {
      "cell_type": "code",
      "source": [
        "#Example: Comparing Low vs. High Std Dev\n",
        "#1. Create a DataFrame with Two Columns\n",
        "import pandas as pd\n",
        "import numpy as np\n",
        "\n",
        "data = {\n",
        "    \"Low_Std_Dev\": [9, 10, 10, 11, 12],       # Values are close together\n",
        "    \"High_Std_Dev\": [1, 100, 200, 300, 1000]  # Values are far apart\n",
        "}\n",
        "\n",
        "df = pd.DataFrame(data)\n",
        "#2. compute standard devation\n",
        "std_dev = df.std()\n",
        "print(std_dev)"
      ],
      "metadata": {
        "colab": {
          "base_uri": "https://localhost:8080/"
        },
        "id": "LlRatek6pOWM",
        "outputId": "8ec582f8-ce87-4f7c-fb95-d88af60f9f18"
      },
      "execution_count": null,
      "outputs": [
        {
          "output_type": "stream",
          "name": "stdout",
          "text": [
            "Low_Std_Dev       1.140175\n",
            "High_Std_Dev    396.030554\n",
            "dtype: float64\n"
          ]
        }
      ]
    },
    {
      "cell_type": "code",
      "source": [
        "#visual comparision\n",
        "import matplotlib.pyplot as plt\n",
        "\n",
        "df.plot(kind=\"box\", vert=False)\n",
        "plt.title(\"Comparing Low vs. High Standard Deviation\")\n",
        "plt.show()"
      ],
      "metadata": {
        "colab": {
          "base_uri": "https://localhost:8080/",
          "height": 452
        },
        "id": "Wing3hpHpzKY",
        "outputId": "6cbf4e75-260f-43e6-bd4b-003e95a80931"
      },
      "execution_count": null,
      "outputs": [
        {
          "output_type": "display_data",
          "data": {
            "text/plain": [
              "<Figure size 640x480 with 1 Axes>"
            ],
            "image/png": "[encoded data removed]"
          },
          "metadata": {}
        }
      ]
    },
    {
      "cell_type": "markdown",
      "source": [
        "Key Takeaways\n",
        "Statistic\tLow Std Dev (Stable Data)\tHigh Std Dev (Variable Data)\n",
        "Example\t[9, 10, 10, 11, 12]\t[1, 100, 200, 300, 1000]\n",
        "Std Dev (σ)\t~1.14\t~408.7\n",
        "Interpretation\tConsistent values\tHighly spread-out values\n",
        "Practical Implications:\n",
        "\n",
        "Low σ: Reliable predictions (e.g., steady temperatures in a lab).\n",
        "\n",
        "High σ: Unpredictable behavior (e.g., stock market volatility)."
      ],
      "metadata": {
        "id": "8Yrz9Yokp-ce"
      }
    },
    {
      "cell_type": "markdown",
      "source": [
        "11.What are some real-world problems where missing data might affect results? Give 2 examples."
      ],
      "metadata": {
        "id": "6kJTLcnHp_wn"
      }
    },
    {
      "cell_type": "markdown",
      "source": [
        "Missing data can lead to biased conclusions, incorrect predictions, or flawed decision-making. Here are two critical examples:\n",
        "\n",
        "1. Healthcare & Medical Research\n",
        "Scenario: A clinical trial tests a new drug’s effectiveness but fails to record side effects for 30% of patients.\n",
        "Problems Caused:\n",
        "\n",
        "False Safety Claims: If missing data hides severe side effects, the drug might be approved as \"safe.\"\n",
        "\n",
        "Biased Efficacy: If dropout patients (missing data) were those who didn’t respond to treatment, the drug’s success rate could be overstated.\n",
        "Example:\n",
        "\n",
        "A study on COVID-19 vaccines missing data from elderly participants might underestimate rare side effects in high-risk groups.\n",
        "\n",
        "Solution:\n",
        "\n",
        "Use imputation (e.g., filling missing values with the median) or weighting to account for underrepresented groups.\n",
        "\n",
        "2. Financial Risk Assessment\n",
        "Scenario: A bank uses customer income data to approve loans, but 20% of applicants don’t report their income.\n",
        "Problems Caused:\n",
        "\n",
        "Approving Risky Loans: If missing income data correlates with high default risk, the bank might underestimate bad loans.\n",
        "\n",
        "Discrimination: If missing data is more common in certain demographics (e.g., freelancers), the model could unfairly reject qualified applicants.\n",
        "Example:\n",
        "\n",
        "The 2008 housing crisis was exacerbated by lenders ignoring missing/incorrect income data in mortgage applications.\n",
        "\n",
        "Solution:\n",
        "\n",
        "Flag missing data explicitly (e.g., adding a \"Missing\" category) or use algorithms robust to missing values (e.g., XGBoost)."
      ],
      "metadata": {
        "id": "JurcG5d9qHCw"
      }
    },
    {
      "cell_type": "markdown",
      "source": [],
      "metadata": {
        "id": "GJL0btnJqTnI"
      }
    }
  ]
}